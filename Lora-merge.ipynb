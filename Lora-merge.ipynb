{
 "cells": [
  {
   "cell_type": "code",
   "execution_count": 1,
   "id": "36261c38-f7e0-4398-a87c-a9b0f541fc93",
   "metadata": {},
   "outputs": [],
   "source": [
    "import torch\n",
    "from transformers import AutoTokenizer, AutoModelForCausalLM\n",
    "from peft import AutoPeftModelForCausalLM\n",
    "\n",
    "base_model_dir = \"E:\\\\cache\\\\hugging face\\\\llama3.2-1b\"\n",
    "lora_model_dir = \"E:\\\\cache\\\\hugging face\\\\llama-tune1\"\n",
    "\n",
    "tokenizer = AutoTokenizer.from_pretrained(lora_model_dir)\n",
    "model = AutoPeftModelForCausalLM.from_pretrained(lora_model_dir, device_map='auto', torch_dtype=torch.bfloat16)"
   ]
  },
  {
   "cell_type": "code",
   "execution_count": 2,
   "id": "b2361a0f-1716-449b-9993-bb375ca14725",
   "metadata": {},
   "outputs": [
    {
     "name": "stdout",
     "output_type": "stream",
     "text": [
      "Saved model to: E:\\cache\\hugging face\\llama-merge\n"
     ]
    }
   ],
   "source": [
    "model = model.merge_and_unload()\n",
    "outputs_dir = 'E:\\\\cache\\\\hugging face\\\\llama-merge'\n",
    "model.save_pretrained(outputs_dir)\n",
    "print(\"Saved model to:\", outputs_dir)"
   ]
  },
  {
   "cell_type": "code",
   "execution_count": 4,
   "id": "36872777-4935-4a84-b952-db396a534ca1",
   "metadata": {},
   "outputs": [],
   "source": [
    "from peft import PeftModel\n",
    "\n",
    "base_model_path = \"E:\\\\cache\\\\hugging face\\\\llama3.2-1b\"\n",
    "lora_model_path = \"E:\\\\cache\\\\hugging face\\\\llama-tune1\"\n",
    "merge_model_path = 'E:\\\\cache\\\\hugging face\\\\llama-merge'\n",
    "\n",
    "tokenizer = AutoTokenizer.from_pretrained(base_model_path)\n",
    "#model = AutoModelForCausalLM.from_pretrained(base_model_path, load_in_8bit=False, device_map='auto', torch_dtype=torch.bfloat16)\n",
    "#model = PeftModel.from_pretrained(model, lora_model_path)\n",
    "model = AutoModelForCausalLM.from_pretrained(merge_model_path, load_in_8bit=False, device_map='auto', torch_dtype=torch.bfloat16).to('cuda')"
   ]
  }
 ],
 "metadata": {
  "kernelspec": {
   "display_name": "Python 3 (ipykernel)",
   "language": "python",
   "name": "python3"
  },
  "language_info": {
   "codemirror_mode": {
    "name": "ipython",
    "version": 3
   },
   "file_extension": ".py",
   "mimetype": "text/x-python",
   "name": "python",
   "nbconvert_exporter": "python",
   "pygments_lexer": "ipython3",
   "version": "3.9.19"
  }
 },
 "nbformat": 4,
 "nbformat_minor": 5
}
